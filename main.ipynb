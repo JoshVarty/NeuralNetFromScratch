{
 "cells": [
  {
   "cell_type": "markdown",
   "metadata": {},
   "source": [
    "# Building a Neural Network From Scratch"
   ]
  },
  {
   "cell_type": "code",
   "execution_count": 1,
   "metadata": {},
   "outputs": [],
   "source": [
    "import numpy as np\n",
    "import gzip\n",
    "import pickle\n",
    "from fastai import datasets\n",
    "import torch"
   ]
  },
  {
   "cell_type": "markdown",
   "metadata": {},
   "source": [
    "Let's try to build a neural network from scratch. Roughly speaking we need to do the following:\n",
    "\n",
    " - [x] Get the dataset \n",
    " - [x] Implement matrix multiplication\n",
    " - [x] Implement ReLU\n",
    " - [x] Implement Softmax \n",
    " - [x] Calculate Loss \n",
    " - [ ] Back prop"
   ]
  },
  {
   "cell_type": "markdown",
   "metadata": {},
   "source": [
    "### Get the dataset"
   ]
  },
  {
   "cell_type": "code",
   "execution_count": 2,
   "metadata": {},
   "outputs": [],
   "source": [
    "MNIST_URL='http://deeplearning.net/data/mnist/mnist.pkl'\n",
    "path = datasets.download_data(MNIST_URL, ext='.gz');\n",
    "with gzip.open(path, 'rb') as f:\n",
    "    ((x_train, y_train), (x_valid, y_valid), _) = pickle.load(f, encoding='latin-1')"
   ]
  },
  {
   "cell_type": "code",
   "execution_count": 3,
   "metadata": {},
   "outputs": [
    {
     "name": "stdout",
     "output_type": "stream",
     "text": [
      "Training set:  50000\n",
      "Validation set:  10000\n"
     ]
    }
   ],
   "source": [
    "print(\"Training set: \", len(x_train))\n",
    "print(\"Validation set: \", len(x_valid))"
   ]
  },
  {
   "cell_type": "code",
   "execution_count": 4,
   "metadata": {},
   "outputs": [
    {
     "data": {
      "text/plain": [
       "(1, 784)"
      ]
     },
     "execution_count": 4,
     "metadata": {},
     "output_type": "execute_result"
    }
   ],
   "source": [
    "#Our first input\n",
    "x1 = x_train[:1]\n",
    "x1.shape"
   ]
  },
  {
   "cell_type": "code",
   "execution_count": 5,
   "metadata": {},
   "outputs": [],
   "source": [
    "#Our first set of weights and biases\n",
    "weights = np.random.rand(784, 10)\n",
    "biases = np.zeros(10)"
   ]
  },
  {
   "cell_type": "markdown",
   "metadata": {},
   "source": [
    "## Implement Matrix Multiplication"
   ]
  },
  {
   "cell_type": "code",
   "execution_count": 7,
   "metadata": {},
   "outputs": [
    {
     "name": "stdout",
     "output_type": "stream",
     "text": [
      "3x3\n",
      "3x2\n"
     ]
    },
    {
     "data": {
      "text/plain": [
       "array([[15., 27.],\n",
       "       [ 6.,  7.],\n",
       "       [26., 63.]])"
      ]
     },
     "execution_count": 7,
     "metadata": {},
     "output_type": "execute_result"
    }
   ],
   "source": [
    "def matrix_multiply(a, b):\n",
    "    \n",
    "    a_rows, a_columns = a.shape\n",
    "    b_rows, b_columns = b.shape\n",
    "    \n",
    "    print(a_rows, a_columns, sep='x')\n",
    "    print(b_rows, b_columns, sep='x')\n",
    "    assert(a_columns == b_rows)\n",
    "    \n",
    "    result = np.zeros((a_rows, b_columns))\n",
    "    \n",
    "    for i in range(0, a_rows):\n",
    "        for j in range(0, b_columns):\n",
    "            result[i,j] = (a[i,:] * b[:,j]).sum()\n",
    "            \n",
    "    return result\n",
    "\n",
    "a = np.array([[1,2,1],[0,1,0], [2,3,4]])\n",
    "b = np.array([[2,5],[6,7],[1,8]])\n",
    "matrix_multiply(a, b)"
   ]
  },
  {
   "cell_type": "markdown",
   "metadata": {},
   "source": [
    "## Implement ReLU"
   ]
  },
  {
   "cell_type": "code",
   "execution_count": 8,
   "metadata": {},
   "outputs": [
    {
     "data": {
      "text/plain": [
       "array([[1, 0, 0],\n",
       "       [0, 1, 0],\n",
       "       [2, 3, 4]])"
      ]
     },
     "execution_count": 8,
     "metadata": {},
     "output_type": "execute_result"
    }
   ],
   "source": [
    "def relu(x):\n",
    "    #If the item is less than zero, return 0. Otherwise return the original value.\n",
    "    result = (x > 0) * x\n",
    "    return result\n",
    "\n",
    "a = np.array([[1,-2,-1],[0,1,0], [2,3,4]])\n",
    "relu(a)"
   ]
  },
  {
   "cell_type": "markdown",
   "metadata": {},
   "source": [
    "## Implement Softmax"
   ]
  },
  {
   "cell_type": "markdown",
   "metadata": {},
   "source": [
    "Next we have to implement a `softmax` function to map from the output of our network to a set of probabilities for each class. Softmax is defined as:"
   ]
  },
  {
   "cell_type": "markdown",
   "metadata": {},
   "source": [
    "\\begin{align}\n",
    "\\sigma(\\mathbf{z})_j = \\frac{e^{z_j}}{\\sum_{k=1}^K e^{z_k}}\n",
    "\\end{align}"
   ]
  },
  {
   "cell_type": "code",
   "execution_count": 155,
   "metadata": {},
   "outputs": [],
   "source": [
    "def softmax(x):\n",
    "    assert len(x.shape) == 2 #We're only going to operate on batches\n",
    "    \n",
    "    numerator = np.exp(x)\n",
    "    denominator = np.expand_dims(np.sum(np.exp(x), axis=1), axis=1) \n",
    "    return numerator / denominator\n",
    "\n",
    "probabilities = softmax(np.random.rand(3,5))"
   ]
  },
  {
   "cell_type": "code",
   "execution_count": 156,
   "metadata": {},
   "outputs": [
    {
     "data": {
      "text/plain": [
       "array([[0.175308, 0.229286, 0.29765 , 0.171439, 0.126316],\n",
       "       [0.144358, 0.156612, 0.331245, 0.155997, 0.211788],\n",
       "       [0.14033 , 0.23684 , 0.14718 , 0.213848, 0.261802]])"
      ]
     },
     "execution_count": 156,
     "metadata": {},
     "output_type": "execute_result"
    }
   ],
   "source": [
    "probabilities"
   ]
  },
  {
   "cell_type": "markdown",
   "metadata": {},
   "source": [
    "## Calculate Loss"
   ]
  },
  {
   "cell_type": "markdown",
   "metadata": {},
   "source": [
    "Now we need to calculate loss on a given mini-batch of examples. Cross entropy loss is a fairly standard way of calculating loss for multi-class classification problems. It is defined as:"
   ]
  },
  {
   "cell_type": "markdown",
   "metadata": {},
   "source": [
    "\\begin{align}\n",
    "{H(p,q)=-\\sum _{x}p(x)\\,\\log q(x).\\!}\n",
    "\\end{align}"
   ]
  },
  {
   "cell_type": "markdown",
   "metadata": {},
   "source": [
    "Where:\n",
    " - `p(x)` is `1` in the case of a correct class, `0` otherwise\n",
    " - `q(x)` is the probability our network has assigned to the current class"
   ]
  },
  {
   "cell_type": "code",
   "execution_count": 147,
   "metadata": {},
   "outputs": [
    {
     "name": "stdout",
     "output_type": "stream",
     "text": [
      "[[0.521736 0.541294 0.21993  0.0036   0.828725]\n",
      " [0.25187  0.89769  0.233337 0.263168 0.71167 ]\n",
      " [0.02052  0.155222 0.326832 0.979635 0.427007]]\n"
     ]
    }
   ],
   "source": [
    "fake_preds = np.random.rand(3,5)\n",
    "print(fake_preds)"
   ]
  },
  {
   "cell_type": "code",
   "execution_count": 148,
   "metadata": {},
   "outputs": [
    {
     "data": {
      "text/plain": [
       "array([0, 1, 1])"
      ]
     },
     "execution_count": 148,
     "metadata": {},
     "output_type": "execute_result"
    }
   ],
   "source": [
    "fake_y = np.zeros((3,), dtype=np.long)\n",
    "fake_y[0] = 0\n",
    "fake_y[1] = 1\n",
    "fake_y[2] = 1\n",
    "fake_y"
   ]
  },
  {
   "cell_type": "code",
   "execution_count": 154,
   "metadata": {},
   "outputs": [
    {
     "data": {
      "text/plain": [
       "array(1.556455)"
      ]
     },
     "execution_count": 154,
     "metadata": {},
     "output_type": "execute_result"
    }
   ],
   "source": [
    "loss = torch.nn.CrossEntropyLoss()\n",
    "results = loss(torch.tensor(fake_preds), torch.tensor(fake_y, dtype=torch.long))\n",
    "results.numpy()"
   ]
  },
  {
   "cell_type": "code",
   "execution_count": 153,
   "metadata": {},
   "outputs": [
    {
     "data": {
      "text/plain": [
       "1.5564550739075456"
      ]
     },
     "execution_count": 153,
     "metadata": {},
     "output_type": "execute_result"
    }
   ],
   "source": [
    "def my_loss(y_pred, y_target):\n",
    "    # Rescale the raw values as probabilities\n",
    "    y_pred = softmax(y_pred)\n",
    "    numberOfItems, numberOfClasses = y_pred.shape    \n",
    "    \n",
    "    totalLoss = 0\n",
    "    for i in range(numberOfItems):\n",
    "        correctClass = y_target[i]\n",
    "        itemLoss = np.log(y_pred[i][correctClass])\n",
    "        totalLoss = totalLoss + itemLoss\n",
    "        \n",
    "    return -(totalLoss) / numberOfItems\n",
    "\n",
    "my_loss(fake_preds, fake_y)"
   ]
  }
 ],
 "metadata": {
  "kernelspec": {
   "display_name": "Python (ml)",
   "language": "python",
   "name": "ml"
  },
  "language_info": {
   "codemirror_mode": {
    "name": "ipython",
    "version": 3
   },
   "file_extension": ".py",
   "mimetype": "text/x-python",
   "name": "python",
   "nbconvert_exporter": "python",
   "pygments_lexer": "ipython3",
   "version": "3.6.8"
  }
 },
 "nbformat": 4,
 "nbformat_minor": 2
}
